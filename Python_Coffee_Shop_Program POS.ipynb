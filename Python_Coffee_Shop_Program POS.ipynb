{
 "cells": [
  {
   "cell_type": "markdown",
   "id": "204e2114-89a8-4ab7-b616-dd46cb4ebe4f",
   "metadata": {},
   "source": [
    "## <b> Project Description: Python Coffee Shop POS System </b>\n",
    "<b> This project is a simple Coffee Shop Point of Sale (POS) system implemented in a Python Jupyter Notebook.</b>\n",
    "\n",
    "<b> It is designed to simulate the basic operations of a coffee shop order and billing system.</b> \n",
    "\n",
    "<b> The main objective is to offer a beginner-friendly Python application that demonstrates fundamental programming concepts like user input, conditional logic, loops, and functions in a real-world context. </b>\n",
    "\n",
    "## <b> Key Highlights: </b>\n",
    "<b> -> Text-based menu with customizable coffee items and prices.</b>\n",
    "\n",
    "<b> -> Allows customers to place multiple item orders with quantities.</b>\n",
    "\n",
    "<b> -> Automatically calculates totals and prints a receipt-style output.</b>\n",
    "\n",
    "<b> -> Includes input validation to handle common user errors.</b>\n",
    "\n",
    "<b> -> Clean, modular code that’s easy to understand and extend.</b>\n"
   ]
  },
  {
   "cell_type": "markdown",
   "id": "6b8ec780-1051-4680-8a6b-f48a38de0a03",
   "metadata": {},
   "source": [
    "# Name : Gopichand Kunchala\n",
    "\n",
    "## GitHub Link: https://github.com/GopichandKunchala/Python_Coffee_Shop_Program.git"
   ]
  },
  {
   "cell_type": "markdown",
   "id": "6a62ddd2-a4a3-41c9-8744-f95b1a069df8",
   "metadata": {},
   "source": [
    "## Python Coffee Shop POS System"
   ]
  },
  {
   "cell_type": "code",
   "execution_count": 9,
   "id": "cfb714e6-b190-49ae-8dec-4a98ef066752",
   "metadata": {},
   "outputs": [
    {
     "name": "stdout",
     "output_type": "stream",
     "text": [
      "\n",
      "---coffee menu---\n",
      "1. Espresso - $2.5\n",
      "2. Latte - $3.0\n",
      "3. Cappuccino - $3.5\n",
      "4. Americano - $2.0\n",
      "5. Filter Coffee - $4.0\n",
      "6. Cold Coffee - $4.5\n",
      "7. view Order\n",
      "8. checkout\n",
      "9. Exit\n"
     ]
    },
    {
     "name": "stdin",
     "output_type": "stream",
     "text": [
      "Choose an option:  3\n"
     ]
    },
    {
     "name": "stdout",
     "output_type": "stream",
     "text": [
      "Added Cappuccino to your order.\n",
      "\n",
      "---coffee menu---\n",
      "1. Espresso - $2.5\n",
      "2. Latte - $3.0\n",
      "3. Cappuccino - $3.5\n",
      "4. Americano - $2.0\n",
      "5. Filter Coffee - $4.0\n",
      "6. Cold Coffee - $4.5\n",
      "7. view Order\n",
      "8. checkout\n",
      "9. Exit\n"
     ]
    },
    {
     "name": "stdin",
     "output_type": "stream",
     "text": [
      "Choose an option:  5\n"
     ]
    },
    {
     "name": "stdout",
     "output_type": "stream",
     "text": [
      "Added Filter Coffee to your order.\n",
      "\n",
      "---coffee menu---\n",
      "1. Espresso - $2.5\n",
      "2. Latte - $3.0\n",
      "3. Cappuccino - $3.5\n",
      "4. Americano - $2.0\n",
      "5. Filter Coffee - $4.0\n",
      "6. Cold Coffee - $4.5\n",
      "7. view Order\n",
      "8. checkout\n",
      "9. Exit\n"
     ]
    },
    {
     "name": "stdin",
     "output_type": "stream",
     "text": [
      "Choose an option:  7\n"
     ]
    },
    {
     "name": "stdout",
     "output_type": "stream",
     "text": [
      "\n",
      "Your Order:\n",
      "1. Cappuccino - $3.5\n",
      "2. Filter Coffee - $4.0\n",
      "Total: $7.5\n",
      "\n",
      "\n",
      "---coffee menu---\n",
      "1. Espresso - $2.5\n",
      "2. Latte - $3.0\n",
      "3. Cappuccino - $3.5\n",
      "4. Americano - $2.0\n",
      "5. Filter Coffee - $4.0\n",
      "6. Cold Coffee - $4.5\n",
      "7. view Order\n",
      "8. checkout\n",
      "9. Exit\n"
     ]
    },
    {
     "name": "stdin",
     "output_type": "stream",
     "text": [
      "Choose an option:  8\n"
     ]
    },
    {
     "name": "stdout",
     "output_type": "stream",
     "text": [
      "\n",
      "Your Order:\n",
      "1. Cappuccino - $3.5\n",
      "2. Filter Coffee - $4.0\n",
      "Total: $7.5\n",
      "\n"
     ]
    },
    {
     "name": "stdin",
     "output_type": "stream",
     "text": [
      "Proceed to checkout (yes/no): yes\n"
     ]
    },
    {
     "name": "stdout",
     "output_type": "stream",
     "text": [
      "Order confirmed! Thank you.\n",
      "\n",
      "---coffee menu---\n",
      "1. Espresso - $2.5\n",
      "2. Latte - $3.0\n",
      "3. Cappuccino - $3.5\n",
      "4. Americano - $2.0\n",
      "5. Filter Coffee - $4.0\n",
      "6. Cold Coffee - $4.5\n",
      "7. view Order\n",
      "8. checkout\n",
      "9. Exit\n"
     ]
    },
    {
     "name": "stdin",
     "output_type": "stream",
     "text": [
      "Choose an option:  9\n"
     ]
    },
    {
     "name": "stdout",
     "output_type": "stream",
     "text": [
      "Thanks for visiting. Bye!\n"
     ]
    }
   ],
   "source": [
    "class Coffee:\n",
    "\n",
    "    # initialize coffee with name and price\n",
    "\n",
    "    def __init__(self, name, price):\n",
    "        self.name = name\n",
    "        self.price = price\n",
    "\n",
    "class Order:\n",
    "\n",
    "    # initialize order with empty list\n",
    "    def __init__(self):\n",
    "        self.items = []\n",
    "\n",
    "    def add_items(self, coffee):\n",
    "        self.items.append(coffee)\n",
    "        print(f\"Added {coffee.name} to your order.\")\n",
    "\n",
    "    # calculate total price\n",
    "\n",
    "    def total(self):\n",
    "        return sum(item.price for item in self.items)\n",
    "\n",
    "    # show order summery\n",
    "\n",
    "    def show_order(self):\n",
    "        if not self.items:\n",
    "            print(\"No items in order.\")\n",
    "            return\n",
    "        print(\"\\nYour Order:\")\n",
    "\n",
    "        for i, item in enumerate(self.items, 1):\n",
    "            print(f\"{i}. {item.name} - ${item.price}\")\n",
    "        print(f\"Total: ${self.total()}\\n\")\n",
    "\n",
    "    # handle checkout process\n",
    "\n",
    "    def checkout(self):\n",
    "        if not self.items:\n",
    "            print(\"Your cart is empty.\")\n",
    "            return\n",
    "        self.show_order()\n",
    "\n",
    "        confirm = input(\"Proceed to checkout (yes/no):\").strip().lower()\n",
    "        if confirm == 'yes':\n",
    "            print(\"Order confirmed! Thank you.\")\n",
    "            self.items.clear()\n",
    "\n",
    "        else:\n",
    "            print(\"checkout cancelled.\")\n",
    "\n",
    "    # display menu and handle user input\n",
    "\n",
    "def main():\n",
    "    menu = [\n",
    "        Coffee(\"Espresso\", 2.5),\n",
    "        Coffee(\"Latte\", 3.0),\n",
    "        Coffee(\"Cappuccino\", 3.5),\n",
    "        Coffee(\"Americano\", 2.0),\n",
    "        Coffee(\"Filter Coffee\", 4.0),\n",
    "        Coffee(\"Cold Coffee\", 4.5)\n",
    "\n",
    "    ]\n",
    "\n",
    "    order = Order()\n",
    "\n",
    "    # user interaction\n",
    "\n",
    "    while True:\n",
    "        print(\"\\n---coffee menu---\")\n",
    "\n",
    "        for i, coffee in enumerate(menu, 1):\n",
    "            print(f\"{i}. {coffee.name} - ${coffee.price}\")\n",
    "        print(\"7. view Order\")\n",
    "        print(\"8. checkout\")\n",
    "        print(\"9. Exit\")\n",
    "\n",
    "        choice = input(\"Choose an option: \")\n",
    "\n",
    "        if choice in ['1','2','3','4','5','6']:\n",
    "            order.add_items(menu[int(choice) -1])\n",
    "\n",
    "        elif choice == '7':\n",
    "            order.show_order()\n",
    "\n",
    "        elif choice == '8':\n",
    "            order.checkout()\n",
    "\n",
    "        elif choice == '9':\n",
    "            print(\"Thanks for visiting. Bye!\")\n",
    "            break\n",
    "\n",
    "        else:\n",
    "            print(\"Invalid choice. Try again.\")\n",
    "\n",
    "if __name__ == \"__main__\":\n",
    "    main()"
   ]
  },
  {
   "cell_type": "code",
   "execution_count": null,
   "id": "4331d565-ab96-4838-aacc-f976da1a2c6c",
   "metadata": {},
   "outputs": [],
   "source": []
  }
 ],
 "metadata": {
  "kernelspec": {
   "display_name": "Python 3 (ipykernel)",
   "language": "python",
   "name": "python3"
  },
  "language_info": {
   "codemirror_mode": {
    "name": "ipython",
    "version": 3
   },
   "file_extension": ".py",
   "mimetype": "text/x-python",
   "name": "python",
   "nbconvert_exporter": "python",
   "pygments_lexer": "ipython3",
   "version": "3.11.7"
  }
 },
 "nbformat": 4,
 "nbformat_minor": 5
}
